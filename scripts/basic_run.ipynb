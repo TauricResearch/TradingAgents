{
 "cells": [
  {
   "cell_type": "markdown",
   "id": "6a0fe5b3",
   "metadata": {},
   "source": [
    "# Basic Implementation for RDDT"
   ]
  },
  {
   "cell_type": "code",
   "execution_count": null,
   "id": "23814bd1",
   "metadata": {
    "vscode": {
     "languageId": "plaintext"
    }
   },
   "outputs": [],
   "source": [
    "from tradingagents.graph.trading_graph import TradingAgentsGraph\n",
    "from tradingagents.default_config import DEFAULT_CONFIG\n",
    "\n",
    "ta = TradingAgentsGraph(debug=True, config=DEFAULT_CONFIG.copy())\n",
    "\n",
    "# forward propagate\n",
    "_, decision = ta.propagate(\"NVDA\", \"2024-05-10\")\n",
    "print(decision)"
   ]
  },
  {
   "cell_type": "markdown",
   "id": "7d397e3f",
   "metadata": {
    "vscode": {
     "languageId": "plaintext"
    }
   },
   "source": [
    "#"
   ]
  }
 ],
 "metadata": {
  "language_info": {
   "name": "python"
  }
 },
 "nbformat": 4,
 "nbformat_minor": 5
}
